{
  "nbformat": 4,
  "nbformat_minor": 0,
  "metadata": {
    "colab": {
      "provenance": [],
      "authorship_tag": "ABX9TyMTIUxCFedHbp+jWJOQtzda"
    },
    "kernelspec": {
      "name": "python3",
      "display_name": "Python 3"
    },
    "language_info": {
      "name": "python"
    }
  },
  "cells": [
    {
      "cell_type": "code",
      "execution_count": 6,
      "metadata": {
        "colab": {
          "base_uri": "https://localhost:8080/"
        },
        "id": "Vi2evtsxSu0v",
        "outputId": "df99fd34-ad64-4805-83eb-98462b24d245"
      },
      "outputs": [
        {
          "output_type": "stream",
          "name": "stdout",
          "text": [
            "Fake DataFrame:\n",
            "                                               title  \\\n",
            "0   Donald Trump Sends Out Embarrassing New Year’...   \n",
            "1   Drunk Bragging Trump Staffer Started Russian ...   \n",
            "2   Sheriff David Clarke Becomes An Internet Joke...   \n",
            "3   Trump Is So Obsessed He Even Has Obama’s Name...   \n",
            "4   Pope Francis Just Called Out Donald Trump Dur...   \n",
            "\n",
            "                                                text subject  \\\n",
            "0  Donald Trump just couldn t wish all Americans ...    News   \n",
            "1  House Intelligence Committee Chairman Devin Nu...    News   \n",
            "2  On Friday, it was revealed that former Milwauk...    News   \n",
            "3  On Christmas day, Donald Trump announced that ...    News   \n",
            "4  Pope Francis used his annual Christmas Day mes...    News   \n",
            "\n",
            "                date  \n",
            "0  December 31, 2017  \n",
            "1  December 31, 2017  \n",
            "2  December 30, 2017  \n",
            "3  December 29, 2017  \n",
            "4  December 25, 2017  \n",
            "True DataFrame:\n",
            "                                               title  \\\n",
            "0  As U.S. budget fight looms, Republicans flip t...   \n",
            "1  U.S. military to accept transgender recruits o...   \n",
            "2  Senior U.S. Republican senator: 'Let Mr. Muell...   \n",
            "3  FBI Russia probe helped by Australian diplomat...   \n",
            "4  Trump wants Postal Service to charge 'much mor...   \n",
            "\n",
            "                                                text       subject  \\\n",
            "0  WASHINGTON (Reuters) - The head of a conservat...  politicsNews   \n",
            "1  WASHINGTON (Reuters) - Transgender people will...  politicsNews   \n",
            "2  WASHINGTON (Reuters) - The special counsel inv...  politicsNews   \n",
            "3  WASHINGTON (Reuters) - Trump campaign adviser ...  politicsNews   \n",
            "4  SEATTLE/WASHINGTON (Reuters) - President Donal...  politicsNews   \n",
            "\n",
            "                 date  \n",
            "0  December 31, 2017   \n",
            "1  December 29, 2017   \n",
            "2  December 31, 2017   \n",
            "3  December 30, 2017   \n",
            "4  December 29, 2017   \n"
          ]
        }
      ],
      "source": [
        "import pandas as pd\n",
        "\n",
        "# Load datasets\n",
        "fake_df = pd.read_csv('/content/Fake.csv')\n",
        "true_df = pd.read_csv('/content/True.csv')\n",
        "\n",
        "# Display the first few rows of each dataframe to check the structure\n",
        "print(\"Fake DataFrame:\")\n",
        "print(fake_df.head())\n",
        "\n",
        "print(\"True DataFrame:\")\n",
        "print(true_df.head())\n"
      ]
    },
    {
      "cell_type": "code",
      "source": [
        "# Add label columns\n",
        "fake_df['label'] = 'fake'\n",
        "true_df['label'] = 'true'\n",
        "\n",
        "# Display the first few rows to check the new column\n",
        "print(\"Fake DataFrame with Label:\")\n",
        "print(fake_df.head())\n",
        "\n",
        "print(\"True DataFrame with Label:\")\n",
        "print(true_df.head())\n"
      ],
      "metadata": {
        "colab": {
          "base_uri": "https://localhost:8080/"
        },
        "id": "TaijOJSbTf4N",
        "outputId": "b5b05561-3e77-4032-a9c7-ca434318ee1f"
      },
      "execution_count": 7,
      "outputs": [
        {
          "output_type": "stream",
          "name": "stdout",
          "text": [
            "Fake DataFrame with Label:\n",
            "                                               title  \\\n",
            "0   Donald Trump Sends Out Embarrassing New Year’...   \n",
            "1   Drunk Bragging Trump Staffer Started Russian ...   \n",
            "2   Sheriff David Clarke Becomes An Internet Joke...   \n",
            "3   Trump Is So Obsessed He Even Has Obama’s Name...   \n",
            "4   Pope Francis Just Called Out Donald Trump Dur...   \n",
            "\n",
            "                                                text subject  \\\n",
            "0  Donald Trump just couldn t wish all Americans ...    News   \n",
            "1  House Intelligence Committee Chairman Devin Nu...    News   \n",
            "2  On Friday, it was revealed that former Milwauk...    News   \n",
            "3  On Christmas day, Donald Trump announced that ...    News   \n",
            "4  Pope Francis used his annual Christmas Day mes...    News   \n",
            "\n",
            "                date label  \n",
            "0  December 31, 2017  fake  \n",
            "1  December 31, 2017  fake  \n",
            "2  December 30, 2017  fake  \n",
            "3  December 29, 2017  fake  \n",
            "4  December 25, 2017  fake  \n",
            "True DataFrame with Label:\n",
            "                                               title  \\\n",
            "0  As U.S. budget fight looms, Republicans flip t...   \n",
            "1  U.S. military to accept transgender recruits o...   \n",
            "2  Senior U.S. Republican senator: 'Let Mr. Muell...   \n",
            "3  FBI Russia probe helped by Australian diplomat...   \n",
            "4  Trump wants Postal Service to charge 'much mor...   \n",
            "\n",
            "                                                text       subject  \\\n",
            "0  WASHINGTON (Reuters) - The head of a conservat...  politicsNews   \n",
            "1  WASHINGTON (Reuters) - Transgender people will...  politicsNews   \n",
            "2  WASHINGTON (Reuters) - The special counsel inv...  politicsNews   \n",
            "3  WASHINGTON (Reuters) - Trump campaign adviser ...  politicsNews   \n",
            "4  SEATTLE/WASHINGTON (Reuters) - President Donal...  politicsNews   \n",
            "\n",
            "                 date label  \n",
            "0  December 31, 2017   true  \n",
            "1  December 29, 2017   true  \n",
            "2  December 31, 2017   true  \n",
            "3  December 30, 2017   true  \n",
            "4  December 29, 2017   true  \n"
          ]
        }
      ]
    },
    {
      "cell_type": "code",
      "source": [
        "# Combine datasets\n",
        "combined_df = pd.concat([fake_df, true_df], ignore_index=True)\n",
        "\n",
        "# Display basic information about the combined DataFrame\n",
        "print(\"Combined DataFrame:\")\n",
        "print(combined_df.shape)  # Print the shape (rows, columns)\n",
        "print(combined_df.head())  # Print the first few rows\n",
        "print(combined_df.tail())  # Print the last few rows\n",
        "print(combined_df['label'].value_counts())  # Print value counts of the labels\n"
      ],
      "metadata": {
        "colab": {
          "base_uri": "https://localhost:8080/"
        },
        "id": "H32ucg57Tjz6",
        "outputId": "0055b028-231e-4256-d18a-797e4ebbbbbf"
      },
      "execution_count": 8,
      "outputs": [
        {
          "output_type": "stream",
          "name": "stdout",
          "text": [
            "Combined DataFrame:\n",
            "(45687, 5)\n",
            "                                               title  \\\n",
            "0   Donald Trump Sends Out Embarrassing New Year’...   \n",
            "1   Drunk Bragging Trump Staffer Started Russian ...   \n",
            "2   Sheriff David Clarke Becomes An Internet Joke...   \n",
            "3   Trump Is So Obsessed He Even Has Obama’s Name...   \n",
            "4   Pope Francis Just Called Out Donald Trump Dur...   \n",
            "\n",
            "                                                text subject  \\\n",
            "0  Donald Trump just couldn t wish all Americans ...    News   \n",
            "1  House Intelligence Committee Chairman Devin Nu...    News   \n",
            "2  On Friday, it was revealed that former Milwauk...    News   \n",
            "3  On Christmas day, Donald Trump announced that ...    News   \n",
            "4  Pope Francis used his annual Christmas Day mes...    News   \n",
            "\n",
            "                date label  \n",
            "0  December 31, 2017  fake  \n",
            "1  December 31, 2017  fake  \n",
            "2  December 30, 2017  fake  \n",
            "3  December 29, 2017  fake  \n",
            "4  December 25, 2017  fake  \n",
            "                                                   title  \\\n",
            "45682  'Fully committed' NATO backs new U.S. approach...   \n",
            "45683  LexisNexis withdrew two products from Chinese ...   \n",
            "45684  Minsk cultural hub becomes haven from authorities   \n",
            "45685  Vatican upbeat on possibility of Pope Francis ...   \n",
            "45686  Indonesia to buy $1.14 billion worth of Russia...   \n",
            "\n",
            "                                                    text    subject  \\\n",
            "45682  BRUSSELS (Reuters) - NATO allies on Tuesday we...  worldnews   \n",
            "45683  LONDON (Reuters) - LexisNexis, a provider of l...  worldnews   \n",
            "45684  MINSK (Reuters) - In the shadow of disused Sov...  worldnews   \n",
            "45685  MOSCOW (Reuters) - Vatican Secretary of State ...  worldnews   \n",
            "45686  JAKARTA (Reuters) - Indonesia will buy 11 Sukh...  worldnews   \n",
            "\n",
            "                   date label  \n",
            "45682  August 22, 2017   true  \n",
            "45683  August 22, 2017   true  \n",
            "45684  August 22, 2017   true  \n",
            "45685  August 22, 2017   true  \n",
            "45686  August 22, 2017   true  \n",
            "label\n",
            "fake    23481\n",
            "true    22206\n",
            "Name: count, dtype: int64\n"
          ]
        }
      ]
    },
    {
      "cell_type": "markdown",
      "source": [],
      "metadata": {
        "id": "Cwvl-OgrTmbZ"
      }
    },
    {
      "cell_type": "code",
      "source": [
        "import re\n",
        "import nltk\n",
        "from nltk.corpus import stopwords\n",
        "from nltk.stem import PorterStemmer\n",
        "from nltk.tokenize import word_tokenize\n",
        "\n",
        "# Download NLTK resources\n",
        "nltk.download('punkt')\n",
        "nltk.download('stopwords')\n",
        "\n",
        "# Initialize stop words and stemmer\n",
        "stop_words = set(stopwords.words('english'))\n",
        "stemmer = PorterStemmer()\n",
        "\n",
        "def preprocess_text(text):\n",
        "    # Lowercasing\n",
        "    text = text.lower()\n",
        "    # Tokenization\n",
        "    words = word_tokenize(text)\n",
        "    # Removing stop words and punctuation, and stemming\n",
        "    words = [stemmer.stem(word) for word in words if word.isalpha() and word not in stop_words]\n",
        "    # Join words back into a single string\n",
        "    return ' '.join(words)\n",
        "\n",
        "# Apply preprocessing to the text column\n",
        "combined_df['cleaned_text'] = combined_df['text'].apply(preprocess_text)\n",
        "\n",
        "# Display the cleaned text\n",
        "print(\"Sample Cleaned Text:\")\n",
        "print(combined_df[['text', 'cleaned_text']].head())\n"
      ],
      "metadata": {
        "colab": {
          "base_uri": "https://localhost:8080/"
        },
        "id": "Wo5vmtp4Tm1I",
        "outputId": "57b7f082-c204-42b9-8842-b98823e0933d"
      },
      "execution_count": 9,
      "outputs": [
        {
          "output_type": "stream",
          "name": "stderr",
          "text": [
            "[nltk_data] Downloading package punkt to /root/nltk_data...\n",
            "[nltk_data]   Package punkt is already up-to-date!\n",
            "[nltk_data] Downloading package stopwords to /root/nltk_data...\n",
            "[nltk_data]   Package stopwords is already up-to-date!\n"
          ]
        },
        {
          "output_type": "stream",
          "name": "stdout",
          "text": [
            "Sample Cleaned Text:\n",
            "                                                text  \\\n",
            "0  Donald Trump just couldn t wish all Americans ...   \n",
            "1  House Intelligence Committee Chairman Devin Nu...   \n",
            "2  On Friday, it was revealed that former Milwauk...   \n",
            "3  On Christmas day, Donald Trump announced that ...   \n",
            "4  Pope Francis used his annual Christmas Day mes...   \n",
            "\n",
            "                                        cleaned_text  \n",
            "0  donald trump wish american happi new year leav...  \n",
            "1  hous intellig committe chairman devin nune go ...  \n",
            "2  friday reveal former milwauke sheriff david cl...  \n",
            "3  christma day donald trump announc would back w...  \n",
            "4  pope franci use annual christma day messag reb...  \n"
          ]
        }
      ]
    },
    {
      "cell_type": "code",
      "source": [
        "from sklearn.feature_extraction.text import TfidfVectorizer\n",
        "\n",
        "# Initialize TF-IDF Vectorizer\n",
        "vectorizer = TfidfVectorizer()\n",
        "\n",
        "# Fit and transform the cleaned text\n",
        "X = vectorizer.fit_transform(combined_df['cleaned_text'])\n",
        "\n",
        "# Display shape of the TF-IDF matrix\n",
        "print(\"TF-IDF Matrix Shape:\")\n",
        "print(X.shape)  # Should be (number_of_samples, number_of_features)\n"
      ],
      "metadata": {
        "colab": {
          "base_uri": "https://localhost:8080/"
        },
        "id": "Wlj34DfrTpuv",
        "outputId": "376243b8-a09b-4ad8-992c-b0f56f9771b2"
      },
      "execution_count": 10,
      "outputs": [
        {
          "output_type": "stream",
          "name": "stdout",
          "text": [
            "TF-IDF Matrix Shape:\n",
            "(45687, 75435)\n"
          ]
        }
      ]
    },
    {
      "cell_type": "code",
      "source": [
        "import matplotlib.pyplot as plt\n",
        "\n",
        "# Plot text length distribution\n",
        "combined_df['text_length'] = combined_df['text'].apply(len)\n",
        "plt.hist(combined_df['text_length'], bins=50)\n",
        "plt.title('Text Length Distribution')\n",
        "plt.xlabel('Text Length')\n",
        "plt.ylabel('Frequency')\n",
        "plt.show()\n"
      ],
      "metadata": {
        "colab": {
          "base_uri": "https://localhost:8080/",
          "height": 472
        },
        "id": "1WL3LtHPTsQ4",
        "outputId": "050fc4ce-d16a-44e5-937d-61ee20a05863"
      },
      "execution_count": 12,
      "outputs": [
        {
          "output_type": "display_data",
          "data": {
            "text/plain": [
              "<Figure size 640x480 with 1 Axes>"
            ],
            "image/png": "[encoded data removed]"
          },
          "metadata": {}
        }
      ]
    }
  ]
}